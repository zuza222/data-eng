{
 "cells": [
  {
   "cell_type": "code",
   "id": "initial_id",
   "metadata": {
    "collapsed": true,
    "ExecuteTime": {
     "end_time": "2025-04-29T19:02:20.676032Z",
     "start_time": "2025-04-29T19:02:20.635937Z"
    }
   },
   "source": [
    "import random\n",
    "\n",
    "import pyspark.sql.functions as F\n",
    "from pyspark.conf import SparkConf\n",
    "from pyspark.context import SparkContext\n",
    "from pyspark.sql import SparkSession\n",
    "from pyspark.sql.window import Window"
   ],
   "outputs": [],
   "execution_count": 1
  },
  {
   "metadata": {
    "ExecuteTime": {
     "end_time": "2025-04-29T19:02:27.735379Z",
     "start_time": "2025-04-29T19:02:20.771030Z"
    }
   },
   "cell_type": "code",
   "source": [
    "# Initialize a Spark Session\n",
    "spark_conf = (\n",
    "    SparkConf()\n",
    "    .set(\"spark.driver.memory\", \"2g\")\n",
    "    .set(\"spark.jars.packages\", \"org.apache.hadoop:hadoop-client:3.3.4,io.delta:delta-spark_2.12:3.2.0\")\n",
    "    .set(\"spark.sql.extensions\", \"io.delta.sql.DeltaSparkSessionExtension\")\n",
    "    .set(\"spark.sql.catalog.spark_catalog\", \"org.apache.spark.sql.delta.catalog.DeltaCatalog\")\n",
    ")\n",
    "sc = SparkContext.getOrCreate(spark_conf)\n",
    "spark = SparkSession(sc)"
   ],
   "id": "c5f92889be807a9b",
   "outputs": [
    {
     "name": "stderr",
     "output_type": "stream",
     "text": [
      "bash: warning: setlocale: LC_ALL: cannot change locale (en_US.UTF-8)\n",
      "bash: warning: setlocale: LC_ALL: cannot change locale (en_US.UTF-8)\n",
      "25/04/29 21:02:22 WARN Utils: Your hostname, Zunia resolves to a loopback address: 127.0.1.1; using 10.255.255.254 instead (on interface lo)\n",
      "25/04/29 21:02:22 WARN Utils: Set SPARK_LOCAL_IP if you need to bind to another address\n"
     ]
    },
    {
     "name": "stdout",
     "output_type": "stream",
     "text": [
      ":: loading settings :: url = jar:file:/home/zunia_linux/Project/studia/data-eng/lab3/.venv/lib/python3.10/site-packages/pyspark/jars/ivy-2.5.1.jar!/org/apache/ivy/core/settings/ivysettings.xml\n"
     ]
    },
    {
     "name": "stderr",
     "output_type": "stream",
     "text": [
      "Ivy Default Cache set to: /home/zunia_linux/.ivy2/cache\n",
      "The jars for the packages stored in: /home/zunia_linux/.ivy2/jars\n",
      "org.apache.hadoop#hadoop-client added as a dependency\n",
      "io.delta#delta-spark_2.12 added as a dependency\n",
      ":: resolving dependencies :: org.apache.spark#spark-submit-parent-679f54a7-45d7-4232-b4da-6c82ab5299df;1.0\n",
      "\tconfs: [default]\n",
      "\tfound org.apache.hadoop#hadoop-client;3.3.4 in central\n",
      "\tfound org.apache.hadoop#hadoop-common;3.3.4 in central\n",
      "\tfound org.apache.hadoop.thirdparty#hadoop-shaded-protobuf_3_7;1.1.1 in central\n",
      "\tfound org.apache.hadoop#hadoop-annotations;3.3.4 in central\n",
      "\tfound org.apache.hadoop.thirdparty#hadoop-shaded-guava;1.1.1 in central\n",
      "\tfound com.google.guava#guava;27.0-jre in central\n",
      "\tfound com.google.guava#failureaccess;1.0 in central\n",
      "\tfound com.google.guava#listenablefuture;9999.0-empty-to-avoid-conflict-with-guava in central\n",
      "\tfound com.google.code.findbugs#jsr305;3.0.2 in central\n",
      "\tfound org.checkerframework#checker-qual;2.5.2 in central\n",
      "\tfound com.google.j2objc#j2objc-annotations;1.1 in central\n",
      "\tfound org.codehaus.mojo#animal-sniffer-annotations;1.17 in central\n",
      "\tfound commons-cli#commons-cli;1.2 in central\n",
      "\tfound org.apache.commons#commons-math3;3.1.1 in central\n",
      "\tfound org.apache.httpcomponents#httpclient;4.5.13 in central\n",
      "\tfound org.apache.httpcomponents#httpcore;4.4.13 in central\n",
      "\tfound commons-logging#commons-logging;1.1.3 in central\n",
      "\tfound commons-codec#commons-codec;1.15 in central\n",
      "\tfound commons-io#commons-io;2.8.0 in central\n",
      "\tfound commons-net#commons-net;3.6 in central\n",
      "\tfound commons-collections#commons-collections;3.2.2 in central\n",
      "\tfound org.eclipse.jetty#jetty-servlet;9.4.43.v20210629 in central\n",
      "\tfound org.eclipse.jetty#jetty-security;9.4.43.v20210629 in central\n",
      "\tfound org.eclipse.jetty#jetty-util-ajax;9.4.43.v20210629 in central\n",
      "\tfound org.eclipse.jetty#jetty-webapp;9.4.43.v20210629 in central\n",
      "\tfound org.eclipse.jetty#jetty-xml;9.4.43.v20210629 in central\n",
      "\tfound com.sun.jersey#jersey-servlet;1.19 in central\n",
      "\tfound ch.qos.reload4j#reload4j;1.2.22 in central\n",
      "\tfound commons-beanutils#commons-beanutils;1.9.4 in central\n",
      "\tfound org.apache.commons#commons-configuration2;2.1.1 in central\n",
      "\tfound org.apache.commons#commons-lang3;3.12.0 in central\n",
      "\tfound org.apache.commons#commons-text;1.4 in central\n",
      "\tfound org.slf4j#slf4j-api;1.7.36 in central\n",
      "\tfound org.slf4j#slf4j-reload4j;1.7.36 in central\n",
      "\tfound org.apache.avro#avro;1.7.7 in central\n",
      "\tfound org.codehaus.jackson#jackson-core-asl;1.9.13 in central\n",
      "\tfound org.codehaus.jackson#jackson-mapper-asl;1.9.13 in central\n",
      "\tfound com.thoughtworks.paranamer#paranamer;2.3 in central\n",
      "\tfound org.xerial.snappy#snappy-java;1.1.8.2 in central\n",
      "\tfound org.apache.commons#commons-compress;1.21 in central\n",
      "\tfound com.google.re2j#re2j;1.1 in central\n",
      "\tfound com.google.protobuf#protobuf-java;2.5.0 in central\n",
      "\tfound com.google.code.gson#gson;2.8.9 in central\n",
      "\tfound org.apache.hadoop#hadoop-auth;3.3.4 in central\n",
      "\tfound com.nimbusds#nimbus-jose-jwt;9.8.1 in central\n",
      "\tfound com.github.stephenc.jcip#jcip-annotations;1.0-1 in central\n",
      "\tfound net.minidev#json-smart;2.4.7 in central\n",
      "\tfound net.minidev#accessors-smart;2.4.7 in central\n",
      "\tfound org.ow2.asm#asm;5.0.4 in central\n",
      "\tfound org.apache.curator#curator-framework;4.2.0 in central\n",
      "\tfound org.apache.curator#curator-client;4.2.0 in central\n",
      "\tfound org.apache.kerby#kerb-simplekdc;1.0.1 in central\n",
      "\tfound org.apache.kerby#kerb-client;1.0.1 in central\n",
      "\tfound org.apache.kerby#kerby-config;1.0.1 in central\n",
      "\tfound org.apache.kerby#kerb-core;1.0.1 in central\n",
      "\tfound org.apache.kerby#kerby-pkix;1.0.1 in central\n",
      "\tfound org.apache.kerby#kerby-asn1;1.0.1 in central\n",
      "\tfound org.apache.kerby#kerby-util;1.0.1 in central\n",
      "\tfound org.apache.kerby#kerb-common;1.0.1 in central\n",
      "\tfound org.apache.kerby#kerb-crypto;1.0.1 in central\n",
      "\tfound org.apache.kerby#kerb-util;1.0.1 in central\n",
      "\tfound org.apache.kerby#token-provider;1.0.1 in central\n",
      "\tfound org.apache.kerby#kerb-admin;1.0.1 in central\n",
      "\tfound org.apache.kerby#kerb-server;1.0.1 in central\n",
      "\tfound org.apache.kerby#kerb-identity;1.0.1 in central\n",
      "\tfound org.apache.kerby#kerby-xdr;1.0.1 in central\n",
      "\tfound org.apache.curator#curator-recipes;4.2.0 in central\n",
      "\tfound com.fasterxml.jackson.core#jackson-databind;2.12.7 in central\n",
      "\tfound com.fasterxml.jackson.core#jackson-annotations;2.12.7 in central\n",
      "\tfound com.fasterxml.jackson.core#jackson-core;2.12.7 in central\n",
      "\tfound org.codehaus.woodstox#stax2-api;4.2.1 in central\n",
      "\tfound com.fasterxml.woodstox#woodstox-core;5.3.0 in central\n",
      "\tfound dnsjava#dnsjava;2.1.7 in central\n",
      "\tfound jakarta.activation#jakarta.activation-api;1.2.1 in central\n",
      "\tfound javax.servlet.jsp#jsp-api;2.1 in central\n",
      "\tfound org.apache.hadoop#hadoop-hdfs-client;3.3.4 in central\n",
      "\tfound org.apache.hadoop#hadoop-yarn-api;3.3.4 in central\n",
      "\tfound javax.xml.bind#jaxb-api;2.2.11 in central\n",
      "\tfound org.apache.hadoop#hadoop-yarn-client;3.3.4 in central\n",
      "\tfound org.eclipse.jetty.websocket#websocket-client;9.4.43.v20210629 in central\n",
      "\tfound org.eclipse.jetty#jetty-client;9.4.43.v20210629 in central\n",
      "\tfound org.eclipse.jetty#jetty-http;9.4.43.v20210629 in central\n",
      "\tfound org.eclipse.jetty#jetty-util;9.4.43.v20210629 in central\n",
      "\tfound org.eclipse.jetty#jetty-io;9.4.43.v20210629 in central\n",
      "\tfound org.eclipse.jetty.websocket#websocket-common;9.4.43.v20210629 in central\n",
      "\tfound org.eclipse.jetty.websocket#websocket-api;9.4.43.v20210629 in central\n",
      "\tfound org.jline#jline;3.9.0 in central\n",
      "\tfound org.apache.hadoop#hadoop-mapreduce-client-core;3.3.4 in central\n",
      "\tfound org.apache.hadoop#hadoop-yarn-common;3.3.4 in central\n",
      "\tfound javax.servlet#javax.servlet-api;3.1.0 in central\n",
      "\tfound com.sun.jersey#jersey-core;1.19 in central\n",
      "\tfound javax.ws.rs#jsr311-api;1.1.1 in central\n",
      "\tfound com.sun.jersey#jersey-client;1.19 in central\n",
      "\tfound com.fasterxml.jackson.module#jackson-module-jaxb-annotations;2.12.7 in central\n",
      "\tfound jakarta.xml.bind#jakarta.xml.bind-api;2.3.2 in central\n",
      "\tfound com.fasterxml.jackson.jaxrs#jackson-jaxrs-json-provider;2.12.7 in central\n",
      "\tfound com.fasterxml.jackson.jaxrs#jackson-jaxrs-base;2.12.7 in central\n",
      "\tfound org.apache.hadoop#hadoop-mapreduce-client-jobclient;3.3.4 in central\n",
      "\tfound org.apache.hadoop#hadoop-mapreduce-client-common;3.3.4 in central\n",
      "\tfound io.delta#delta-spark_2.12;3.2.0 in central\n",
      "\tfound io.delta#delta-storage;3.2.0 in central\n",
      "\tfound org.antlr#antlr4-runtime;4.9.3 in central\n",
      ":: resolution report :: resolve 1795ms :: artifacts dl 59ms\n",
      "\t:: modules in use:\n",
      "\tch.qos.reload4j#reload4j;1.2.22 from central in [default]\n",
      "\tcom.fasterxml.jackson.core#jackson-annotations;2.12.7 from central in [default]\n",
      "\tcom.fasterxml.jackson.core#jackson-core;2.12.7 from central in [default]\n",
      "\tcom.fasterxml.jackson.core#jackson-databind;2.12.7 from central in [default]\n",
      "\tcom.fasterxml.jackson.jaxrs#jackson-jaxrs-base;2.12.7 from central in [default]\n",
      "\tcom.fasterxml.jackson.jaxrs#jackson-jaxrs-json-provider;2.12.7 from central in [default]\n",
      "\tcom.fasterxml.jackson.module#jackson-module-jaxb-annotations;2.12.7 from central in [default]\n",
      "\tcom.fasterxml.woodstox#woodstox-core;5.3.0 from central in [default]\n",
      "\tcom.github.stephenc.jcip#jcip-annotations;1.0-1 from central in [default]\n",
      "\tcom.google.code.findbugs#jsr305;3.0.2 from central in [default]\n",
      "\tcom.google.code.gson#gson;2.8.9 from central in [default]\n",
      "\tcom.google.guava#failureaccess;1.0 from central in [default]\n",
      "\tcom.google.guava#guava;27.0-jre from central in [default]\n",
      "\tcom.google.guava#listenablefuture;9999.0-empty-to-avoid-conflict-with-guava from central in [default]\n",
      "\tcom.google.j2objc#j2objc-annotations;1.1 from central in [default]\n",
      "\tcom.google.protobuf#protobuf-java;2.5.0 from central in [default]\n",
      "\tcom.google.re2j#re2j;1.1 from central in [default]\n",
      "\tcom.nimbusds#nimbus-jose-jwt;9.8.1 from central in [default]\n",
      "\tcom.sun.jersey#jersey-client;1.19 from central in [default]\n",
      "\tcom.sun.jersey#jersey-core;1.19 from central in [default]\n",
      "\tcom.sun.jersey#jersey-servlet;1.19 from central in [default]\n",
      "\tcom.thoughtworks.paranamer#paranamer;2.3 from central in [default]\n",
      "\tcommons-beanutils#commons-beanutils;1.9.4 from central in [default]\n",
      "\tcommons-cli#commons-cli;1.2 from central in [default]\n",
      "\tcommons-codec#commons-codec;1.15 from central in [default]\n",
      "\tcommons-collections#commons-collections;3.2.2 from central in [default]\n",
      "\tcommons-io#commons-io;2.8.0 from central in [default]\n",
      "\tcommons-logging#commons-logging;1.1.3 from central in [default]\n",
      "\tcommons-net#commons-net;3.6 from central in [default]\n",
      "\tdnsjava#dnsjava;2.1.7 from central in [default]\n",
      "\tio.delta#delta-spark_2.12;3.2.0 from central in [default]\n",
      "\tio.delta#delta-storage;3.2.0 from central in [default]\n",
      "\tjakarta.activation#jakarta.activation-api;1.2.1 from central in [default]\n",
      "\tjakarta.xml.bind#jakarta.xml.bind-api;2.3.2 from central in [default]\n",
      "\tjavax.servlet#javax.servlet-api;3.1.0 from central in [default]\n",
      "\tjavax.servlet.jsp#jsp-api;2.1 from central in [default]\n",
      "\tjavax.ws.rs#jsr311-api;1.1.1 from central in [default]\n",
      "\tjavax.xml.bind#jaxb-api;2.2.11 from central in [default]\n",
      "\tnet.minidev#accessors-smart;2.4.7 from central in [default]\n",
      "\tnet.minidev#json-smart;2.4.7 from central in [default]\n",
      "\torg.antlr#antlr4-runtime;4.9.3 from central in [default]\n",
      "\torg.apache.avro#avro;1.7.7 from central in [default]\n",
      "\torg.apache.commons#commons-compress;1.21 from central in [default]\n",
      "\torg.apache.commons#commons-configuration2;2.1.1 from central in [default]\n",
      "\torg.apache.commons#commons-lang3;3.12.0 from central in [default]\n",
      "\torg.apache.commons#commons-math3;3.1.1 from central in [default]\n",
      "\torg.apache.commons#commons-text;1.4 from central in [default]\n",
      "\torg.apache.curator#curator-client;4.2.0 from central in [default]\n",
      "\torg.apache.curator#curator-framework;4.2.0 from central in [default]\n",
      "\torg.apache.curator#curator-recipes;4.2.0 from central in [default]\n",
      "\torg.apache.hadoop#hadoop-annotations;3.3.4 from central in [default]\n",
      "\torg.apache.hadoop#hadoop-auth;3.3.4 from central in [default]\n",
      "\torg.apache.hadoop#hadoop-client;3.3.4 from central in [default]\n",
      "\torg.apache.hadoop#hadoop-common;3.3.4 from central in [default]\n",
      "\torg.apache.hadoop#hadoop-hdfs-client;3.3.4 from central in [default]\n",
      "\torg.apache.hadoop#hadoop-mapreduce-client-common;3.3.4 from central in [default]\n",
      "\torg.apache.hadoop#hadoop-mapreduce-client-core;3.3.4 from central in [default]\n",
      "\torg.apache.hadoop#hadoop-mapreduce-client-jobclient;3.3.4 from central in [default]\n",
      "\torg.apache.hadoop#hadoop-yarn-api;3.3.4 from central in [default]\n",
      "\torg.apache.hadoop#hadoop-yarn-client;3.3.4 from central in [default]\n",
      "\torg.apache.hadoop#hadoop-yarn-common;3.3.4 from central in [default]\n",
      "\torg.apache.hadoop.thirdparty#hadoop-shaded-guava;1.1.1 from central in [default]\n",
      "\torg.apache.hadoop.thirdparty#hadoop-shaded-protobuf_3_7;1.1.1 from central in [default]\n",
      "\torg.apache.httpcomponents#httpclient;4.5.13 from central in [default]\n",
      "\torg.apache.httpcomponents#httpcore;4.4.13 from central in [default]\n",
      "\torg.apache.kerby#kerb-admin;1.0.1 from central in [default]\n",
      "\torg.apache.kerby#kerb-client;1.0.1 from central in [default]\n",
      "\torg.apache.kerby#kerb-common;1.0.1 from central in [default]\n",
      "\torg.apache.kerby#kerb-core;1.0.1 from central in [default]\n",
      "\torg.apache.kerby#kerb-crypto;1.0.1 from central in [default]\n",
      "\torg.apache.kerby#kerb-identity;1.0.1 from central in [default]\n",
      "\torg.apache.kerby#kerb-server;1.0.1 from central in [default]\n",
      "\torg.apache.kerby#kerb-simplekdc;1.0.1 from central in [default]\n",
      "\torg.apache.kerby#kerb-util;1.0.1 from central in [default]\n",
      "\torg.apache.kerby#kerby-asn1;1.0.1 from central in [default]\n",
      "\torg.apache.kerby#kerby-config;1.0.1 from central in [default]\n",
      "\torg.apache.kerby#kerby-pkix;1.0.1 from central in [default]\n",
      "\torg.apache.kerby#kerby-util;1.0.1 from central in [default]\n",
      "\torg.apache.kerby#kerby-xdr;1.0.1 from central in [default]\n",
      "\torg.apache.kerby#token-provider;1.0.1 from central in [default]\n",
      "\torg.checkerframework#checker-qual;2.5.2 from central in [default]\n",
      "\torg.codehaus.jackson#jackson-core-asl;1.9.13 from central in [default]\n",
      "\torg.codehaus.jackson#jackson-mapper-asl;1.9.13 from central in [default]\n",
      "\torg.codehaus.mojo#animal-sniffer-annotations;1.17 from central in [default]\n",
      "\torg.codehaus.woodstox#stax2-api;4.2.1 from central in [default]\n",
      "\torg.eclipse.jetty#jetty-client;9.4.43.v20210629 from central in [default]\n",
      "\torg.eclipse.jetty#jetty-http;9.4.43.v20210629 from central in [default]\n",
      "\torg.eclipse.jetty#jetty-io;9.4.43.v20210629 from central in [default]\n",
      "\torg.eclipse.jetty#jetty-security;9.4.43.v20210629 from central in [default]\n",
      "\torg.eclipse.jetty#jetty-servlet;9.4.43.v20210629 from central in [default]\n",
      "\torg.eclipse.jetty#jetty-util;9.4.43.v20210629 from central in [default]\n",
      "\torg.eclipse.jetty#jetty-util-ajax;9.4.43.v20210629 from central in [default]\n",
      "\torg.eclipse.jetty#jetty-webapp;9.4.43.v20210629 from central in [default]\n",
      "\torg.eclipse.jetty#jetty-xml;9.4.43.v20210629 from central in [default]\n",
      "\torg.eclipse.jetty.websocket#websocket-api;9.4.43.v20210629 from central in [default]\n",
      "\torg.eclipse.jetty.websocket#websocket-client;9.4.43.v20210629 from central in [default]\n",
      "\torg.eclipse.jetty.websocket#websocket-common;9.4.43.v20210629 from central in [default]\n",
      "\torg.jline#jline;3.9.0 from central in [default]\n",
      "\torg.ow2.asm#asm;5.0.4 from central in [default]\n",
      "\torg.slf4j#slf4j-api;1.7.36 from central in [default]\n",
      "\torg.slf4j#slf4j-reload4j;1.7.36 from central in [default]\n",
      "\torg.xerial.snappy#snappy-java;1.1.8.2 from central in [default]\n",
      "\t---------------------------------------------------------------------\n",
      "\t|                  |            modules            ||   artifacts   |\n",
      "\t|       conf       | number| search|dwnlded|evicted|| number|dwnlded|\n",
      "\t---------------------------------------------------------------------\n",
      "\t|      default     |  102  |   0   |   0   |   0   ||  102  |   0   |\n",
      "\t---------------------------------------------------------------------\n",
      ":: retrieving :: org.apache.spark#spark-submit-parent-679f54a7-45d7-4232-b4da-6c82ab5299df\n",
      "\tconfs: [default]\n",
      "\t0 artifacts copied, 102 already retrieved (0kB/28ms)\n",
      "25/04/29 21:02:24 WARN NativeCodeLoader: Unable to load native-hadoop library for your platform... using builtin-java classes where applicable\n",
      "Setting default log level to \"WARN\".\n",
      "To adjust logging level use sc.setLogLevel(newLevel). For SparkR, use setLogLevel(newLevel).\n"
     ]
    }
   ],
   "execution_count": 2
  },
  {
   "metadata": {
    "ExecuteTime": {
     "end_time": "2025-04-29T19:02:27.959153Z",
     "start_time": "2025-04-29T19:02:27.946825Z"
    }
   },
   "cell_type": "code",
   "source": [
    "print(f\"Hadoop version = {spark._jvm.org.apache.hadoop.util.VersionInfo.getVersion()}\")\n",
    "print(f\"Spark version = {spark.version}\")"
   ],
   "id": "3e29bf3841c1cb96",
   "outputs": [
    {
     "name": "stdout",
     "output_type": "stream",
     "text": [
      "Hadoop version = 3.3.4\n",
      "Spark version = 3.5.0\n"
     ]
    }
   ],
   "execution_count": 3
  },
  {
   "metadata": {
    "ExecuteTime": {
     "end_time": "2025-04-29T19:02:36.696841Z",
     "start_time": "2025-04-29T19:02:28.016014Z"
    }
   },
   "cell_type": "code",
   "source": [
    "sample_data = [\n",
    "    (f'field1_{i}', i, i % 3)\n",
    "    for i in range(1000)\n",
    "]\n",
    "sample_df = spark.createDataFrame(sample_data, ['field1', 'field2', 'field3'])\n",
    "sample_df.write.format(\"delta\").mode(\"overwrite\").save(\"/home/zunia_linux/Project/studia/data-eng/lab3/sample_data\")"
   ],
   "id": "65e6d956990cf708",
   "outputs": [
    {
     "name": "stderr",
     "output_type": "stream",
     "text": [
      "25/04/29 21:02:33 WARN MemoryManager: Total allocation exceeds 95.00% (2,040,109,440 bytes) of heap memory\n",
      "Scaling row group sizes to 95.00% for 16 writers\n",
      "                                                                                \r"
     ]
    }
   ],
   "execution_count": 4
  },
  {
   "metadata": {
    "ExecuteTime": {
     "end_time": "2025-04-29T19:02:36.797265Z",
     "start_time": "2025-04-29T19:02:36.722096Z"
    }
   },
   "cell_type": "code",
   "source": [
    "%%bash\n",
    "mkdir -p /home/zunia_linux/Project/studia/data-eng/lab3/lakehouse/bronze\n",
    "mkdir -p /home/zunia_linux/Project/studia/data-eng/lab3lakehouse/silver\n",
    "mkdir -p /home/zunia_linux/Project/studia/data-eng/lab3lakehouse/gold"
   ],
   "id": "c76f97f7d06e9162",
   "outputs": [
    {
     "name": "stderr",
     "output_type": "stream",
     "text": [
      "bash: warning: setlocale: LC_ALL: cannot change locale (en_US.UTF-8)\n"
     ]
    }
   ],
   "execution_count": 5
  },
  {
   "metadata": {
    "ExecuteTime": {
     "end_time": "2025-04-29T19:02:37.156438Z",
     "start_time": "2025-04-29T19:02:37.153587Z"
    }
   },
   "cell_type": "code",
   "source": [
    "BRONZE_ROOT = \"/home/zunia_linux/Project/studia/data-eng/lab3/lakehouse/bronze\"\n",
    "SILVER_ROOT = \"/home/zunia_linux/Project/studia/data-eng/lab3/lakehouse/silver\"\n",
    "GOLD_ROOT = \"/home/zunia_linux/Project/studia/data-eng/lab3/lakehouse/gold\""
   ],
   "id": "a5c9fe2511cfa71b",
   "outputs": [],
   "execution_count": 6
  },
  {
   "metadata": {
    "ExecuteTime": {
     "end_time": "2025-04-29T19:02:37.291096Z",
     "start_time": "2025-04-29T19:02:37.239926Z"
    }
   },
   "cell_type": "code",
   "source": [
    "bronze_user = [\n",
    "    dict(\n",
    "        id=i,\n",
    "        user_name=f\"name{random.randint(1, 10)}\",\n",
    "        location=random.randint(1, 100),\n",
    "    )\n",
    "    for i in range(10_000)\n",
    "]\n",
    "section_ids = list(range(1, 10))\n",
    "bronze_user_to_section = []\n",
    "for user_id in range(10_000):\n",
    "    section = random.sample(section_ids, random.randint(0, 5))\n",
    "    if len(section) > 0:\n",
    "        bronze_user_to_section += [dict(user_id=user_id, section_id=s) for s in section]\n",
    "\n",
    "location_info = [\n",
    "    dict(\n",
    "        id=i,\n",
    "        district_name=f\"district{i % 10}\",\n",
    "        city_name=f\"city{i % 30}\"\n",
    "    )\n",
    "    for i in range(1, 101)\n",
    "]"
   ],
   "id": "321c631c0254b16",
   "outputs": [],
   "execution_count": 7
  },
  {
   "metadata": {
    "ExecuteTime": {
     "end_time": "2025-04-29T19:02:40.544410Z",
     "start_time": "2025-04-29T19:02:37.337744Z"
    }
   },
   "cell_type": "code",
   "source": [
    "spark.createDataFrame(bronze_user).write.format(\"delta\").mode(\"overwrite\").save(f\"{BRONZE_ROOT}/bronze_user\")\n",
    "spark.createDataFrame(bronze_user_to_section).write.format(\"delta\").mode(\"overwrite\").save(\n",
    "    f\"{BRONZE_ROOT}/bronze_user_to_section\")\n",
    "spark.createDataFrame(location_info).write.format(\"delta\").mode(\"overwrite\").save(f\"{BRONZE_ROOT}/location_info\")"
   ],
   "id": "e2a5aeb04254974f",
   "outputs": [
    {
     "name": "stderr",
     "output_type": "stream",
     "text": [
      "                                                                                \r"
     ]
    }
   ],
   "execution_count": 8
  },
  {
   "metadata": {
    "ExecuteTime": {
     "end_time": "2025-04-29T19:02:40.643488Z",
     "start_time": "2025-04-29T19:02:40.592335Z"
    }
   },
   "cell_type": "code",
   "source": [
    "users_df = spark.read.format(\"delta\").load(f\"{BRONZE_ROOT}/bronze_user\")\n",
    "user2section_df = spark.read.format(\"delta\").load(f\"{BRONZE_ROOT}/bronze_user_to_section\")\n",
    "location_df = spark.read.format(\"delta\").load(f\"{BRONZE_ROOT}/location_info\")"
   ],
   "id": "a37a8d6b724f36b7",
   "outputs": [],
   "execution_count": 9
  },
  {
   "metadata": {
    "ExecuteTime": {
     "end_time": "2025-04-29T19:02:46.917587Z",
     "start_time": "2025-04-29T19:02:40.693969Z"
    }
   },
   "cell_type": "code",
   "source": [
    "print(\"Users\")\n",
    "users_df.show(5)\n",
    "print(\"User to section\")\n",
    "user2section_df.show(5)\n",
    "print(\"Location\")\n",
    "location_df.show(5)"
   ],
   "id": "74dbe1fe97e11607",
   "outputs": [
    {
     "name": "stdout",
     "output_type": "stream",
     "text": [
      "Users\n"
     ]
    },
    {
     "name": "stderr",
     "output_type": "stream",
     "text": [
      "25/04/29 21:02:40 WARN SparkStringUtils: Truncated the string representation of a plan since it was too large. This behavior can be adjusted by setting 'spark.sql.debug.maxToStringFields'.\n",
      "                                                                                \r"
     ]
    },
    {
     "name": "stdout",
     "output_type": "stream",
     "text": [
      "+---+--------+---------+\n",
      "| id|location|user_name|\n",
      "+---+--------+---------+\n",
      "|625|       6|    name8|\n",
      "|626|      66|    name8|\n",
      "|627|      92|    name8|\n",
      "|628|      42|    name5|\n",
      "|629|      82|    name9|\n",
      "+---+--------+---------+\n",
      "only showing top 5 rows\n",
      "\n",
      "User to section\n",
      "+----------+-------+\n",
      "|section_id|user_id|\n",
      "+----------+-------+\n",
      "|         8|   2817|\n",
      "|         7|   2817|\n",
      "|         6|   2817|\n",
      "|         3|   2818|\n",
      "|         7|   2818|\n",
      "+----------+-------+\n",
      "only showing top 5 rows\n",
      "\n",
      "Location\n",
      "+---------+-------------+---+\n",
      "|city_name|district_name| id|\n",
      "+---------+-------------+---+\n",
      "|   city25|    district5| 55|\n",
      "|   city26|    district6| 56|\n",
      "|   city27|    district7| 57|\n",
      "|   city28|    district8| 58|\n",
      "|   city29|    district9| 59|\n",
      "+---------+-------------+---+\n",
      "only showing top 5 rows\n",
      "\n"
     ]
    }
   ],
   "execution_count": 10
  },
  {
   "metadata": {
    "ExecuteTime": {
     "end_time": "2025-04-29T19:02:47.038278Z",
     "start_time": "2025-04-29T19:02:46.970156Z"
    }
   },
   "cell_type": "code",
   "source": [
    "pivoted_section = (\n",
    "    user2section_df\n",
    "    .groupBy('user_id')\n",
    "    .pivot('section_id', [str(section_id) for section_id in section_ids])\n",
    "    .agg(F.first('section_id'))\n",
    ").select(\n",
    "    F.col('user_id').alias('id'),\n",
    "    *[\n",
    "        F.col(str(section_id)).isNull().alias(f\"attend_{section_id}\") for section_id in section_ids\n",
    "    ]\n",
    ")"
   ],
   "id": "c9e274600e51b73c",
   "outputs": [],
   "execution_count": 11
  },
  {
   "metadata": {
    "ExecuteTime": {
     "end_time": "2025-04-29T19:02:48.657729Z",
     "start_time": "2025-04-29T19:02:47.090320Z"
    }
   },
   "cell_type": "code",
   "source": "pivoted_section.show()",
   "id": "16be2140d9463037",
   "outputs": [
    {
     "name": "stderr",
     "output_type": "stream",
     "text": [
      "[Stage 37:=================>                                      (5 + 11) / 16]\r"
     ]
    },
    {
     "name": "stdout",
     "output_type": "stream",
     "text": [
      "+----+--------+--------+--------+--------+--------+--------+--------+--------+--------+\n",
      "|  id|attend_1|attend_2|attend_3|attend_4|attend_5|attend_6|attend_7|attend_8|attend_9|\n",
      "+----+--------+--------+--------+--------+--------+--------+--------+--------+--------+\n",
      "| 474|    true|    true|    true|    true|    true|    true|   false|    true|    true|\n",
      "| 964|    true|    true|    true|    true|    true|   false|    true|    true|    true|\n",
      "|9233|    true|    true|    true|    true|   false|   false|   false|    true|    true|\n",
      "|4894|    true|    true|   false|    true|   false|    true|    true|   false|   false|\n",
      "|5385|   false|   false|    true|    true|   false|    true|   false|   false|    true|\n",
      "|5556|    true|    true|   false|    true|   false|   false|    true|    true|   false|\n",
      "|5409|    true|    true|    true|    true|    true|    true|    true|   false|    true|\n",
      "|3506|   false|   false|    true|    true|    true|    true|   false|   false|    true|\n",
      "|3091|    true|   false|   false|   false|    true|    true|    true|    true|   false|\n",
      "|2927|    true|   false|    true|   false|   false|    true|   false|   false|    true|\n",
      "|4823|    true|   false|   false|    true|    true|    true|    true|   false|    true|\n",
      "|4590|   false|    true|    true|    true|    true|   false|    true|   false|    true|\n",
      "|2214|    true|    true|    true|    true|    true|    true|    true|    true|   false|\n",
      "|2250|    true|    true|    true|    true|    true|    true|    true|   false|    true|\n",
      "|1950|    true|    true|    true|    true|   false|    true|   false|    true|   false|\n",
      "|8075|    true|    true|   false|    true|    true|    true|    true|   false|    true|\n",
      "|9715|   false|   false|    true|    true|    true|    true|   false|    true|    true|\n",
      "|9968|    true|   false|    true|    true|   false|   false|   false|    true|    true|\n",
      "|9945|   false|    true|   false|    true|    true|    true|    true|    true|   false|\n",
      "|9458|    true|   false|    true|   false|   false|    true|    true|   false|    true|\n",
      "+----+--------+--------+--------+--------+--------+--------+--------+--------+--------+\n",
      "only showing top 20 rows\n",
      "\n"
     ]
    },
    {
     "name": "stderr",
     "output_type": "stream",
     "text": [
      "                                                                                \r"
     ]
    }
   ],
   "execution_count": 12
  },
  {
   "metadata": {
    "ExecuteTime": {
     "end_time": "2025-04-29T19:02:51.080676Z",
     "start_time": "2025-04-29T19:02:48.712062Z"
    }
   },
   "cell_type": "code",
   "source": [
    "silver_df = users_df.join(pivoted_section, 'id', 'left')\n",
    "silver_df.show()"
   ],
   "id": "31ae8ae1994d5383",
   "outputs": [
    {
     "name": "stderr",
     "output_type": "stream",
     "text": [
      "                                                                                \r"
     ]
    },
    {
     "name": "stdout",
     "output_type": "stream",
     "text": [
      "+---+--------+---------+--------+--------+--------+--------+--------+--------+--------+--------+--------+\n",
      "| id|location|user_name|attend_1|attend_2|attend_3|attend_4|attend_5|attend_6|attend_7|attend_8|attend_9|\n",
      "+---+--------+---------+--------+--------+--------+--------+--------+--------+--------+--------+--------+\n",
      "|625|       6|    name8|   false|    true|    true|    true|    true|    true|    true|   false|    true|\n",
      "|626|      66|    name8|   false|    true|    true|    true|   false|   false|   false|    true|   false|\n",
      "|627|      92|    name8|   false|    true|    true|   false|    true|   false|   false|   false|    true|\n",
      "|628|      42|    name5|    NULL|    NULL|    NULL|    NULL|    NULL|    NULL|    NULL|    NULL|    NULL|\n",
      "|629|      82|    name9|    NULL|    NULL|    NULL|    NULL|    NULL|    NULL|    NULL|    NULL|    NULL|\n",
      "|630|      53|    name5|   false|   false|    true|    true|   false|    true|   false|   false|    true|\n",
      "|631|      29|    name1|    true|   false|   false|    true|    true|   false|    true|   false|    true|\n",
      "|632|      56|   name10|   false|    true|    true|    true|   false|    true|    true|    true|    true|\n",
      "|633|      26|    name4|    true|    true|    true|    true|    true|    true|   false|   false|    true|\n",
      "|634|       7|    name4|    true|    true|    true|   false|    true|   false|    true|    true|    true|\n",
      "|635|      82|    name7|   false|   false|   false|    true|    true|    true|    true|    true|    true|\n",
      "|636|      98|    name5|   false|    true|    true|   false|   false|    true|    true|    true|   false|\n",
      "|637|      68|    name6|    NULL|    NULL|    NULL|    NULL|    NULL|    NULL|    NULL|    NULL|    NULL|\n",
      "|638|      82|   name10|   false|    true|    true|    true|    true|    true|    true|    true|    true|\n",
      "|639|      71|    name1|    true|   false|    true|    true|    true|    true|    true|    true|    true|\n",
      "|640|      28|    name2|    true|    true|    true|    true|    true|    true|    true|    true|   false|\n",
      "|641|     100|    name8|    true|   false|    true|    true|    true|    true|   false|    true|   false|\n",
      "|642|      89|    name9|    true|    true|   false|    true|    true|    true|    true|    true|    true|\n",
      "|643|      77|    name2|    true|    true|    true|    true|    true|   false|    true|    true|    true|\n",
      "|644|       1|    name2|    true|   false|    true|    true|    true|    true|    true|    true|    true|\n",
      "+---+--------+---------+--------+--------+--------+--------+--------+--------+--------+--------+--------+\n",
      "only showing top 20 rows\n",
      "\n"
     ]
    }
   ],
   "execution_count": 13
  },
  {
   "metadata": {
    "ExecuteTime": {
     "end_time": "2025-04-29T19:02:51.181934Z",
     "start_time": "2025-04-29T19:02:51.158818Z"
    }
   },
   "cell_type": "code",
   "source": [
    "location_df = location_df.withColumnRenamed('id', 'location')\n",
    "silver_df = silver_df.join(location_df, 'location', 'left')\n",
    "silver_df.printSchema()"
   ],
   "id": "5b72c7345896676b",
   "outputs": [
    {
     "name": "stdout",
     "output_type": "stream",
     "text": [
      "root\n",
      " |-- location: long (nullable = true)\n",
      " |-- id: long (nullable = true)\n",
      " |-- user_name: string (nullable = true)\n",
      " |-- attend_1: boolean (nullable = true)\n",
      " |-- attend_2: boolean (nullable = true)\n",
      " |-- attend_3: boolean (nullable = true)\n",
      " |-- attend_4: boolean (nullable = true)\n",
      " |-- attend_5: boolean (nullable = true)\n",
      " |-- attend_6: boolean (nullable = true)\n",
      " |-- attend_7: boolean (nullable = true)\n",
      " |-- attend_8: boolean (nullable = true)\n",
      " |-- attend_9: boolean (nullable = true)\n",
      " |-- city_name: string (nullable = true)\n",
      " |-- district_name: string (nullable = true)\n",
      "\n"
     ]
    }
   ],
   "execution_count": 14
  },
  {
   "metadata": {
    "ExecuteTime": {
     "end_time": "2025-04-29T19:02:52.278293Z",
     "start_time": "2025-04-29T19:02:51.247075Z"
    }
   },
   "cell_type": "code",
   "source": "silver_df.show()",
   "id": "9bcba8f6b9002030",
   "outputs": [
    {
     "name": "stdout",
     "output_type": "stream",
     "text": [
      "+--------+---+---------+--------+--------+--------+--------+--------+--------+--------+--------+--------+---------+-------------+\n",
      "|location| id|user_name|attend_1|attend_2|attend_3|attend_4|attend_5|attend_6|attend_7|attend_8|attend_9|city_name|district_name|\n",
      "+--------+---+---------+--------+--------+--------+--------+--------+--------+--------+--------+--------+---------+-------------+\n",
      "|       6|625|    name8|   false|    true|    true|    true|    true|    true|    true|   false|    true|    city6|    district6|\n",
      "|      66|626|    name8|   false|    true|    true|    true|   false|   false|   false|    true|   false|    city6|    district6|\n",
      "|      92|627|    name8|   false|    true|    true|   false|    true|   false|   false|   false|    true|    city2|    district2|\n",
      "|      42|628|    name5|    NULL|    NULL|    NULL|    NULL|    NULL|    NULL|    NULL|    NULL|    NULL|   city12|    district2|\n",
      "|      82|629|    name9|    NULL|    NULL|    NULL|    NULL|    NULL|    NULL|    NULL|    NULL|    NULL|   city22|    district2|\n",
      "|      53|630|    name5|   false|   false|    true|    true|   false|    true|   false|   false|    true|   city23|    district3|\n",
      "|      29|631|    name1|    true|   false|   false|    true|    true|   false|    true|   false|    true|   city29|    district9|\n",
      "|      56|632|   name10|   false|    true|    true|    true|   false|    true|    true|    true|    true|   city26|    district6|\n",
      "|      26|633|    name4|    true|    true|    true|    true|    true|    true|   false|   false|    true|   city26|    district6|\n",
      "|       7|634|    name4|    true|    true|    true|   false|    true|   false|    true|    true|    true|    city7|    district7|\n",
      "|      82|635|    name7|   false|   false|   false|    true|    true|    true|    true|    true|    true|   city22|    district2|\n",
      "|      98|636|    name5|   false|    true|    true|   false|   false|    true|    true|    true|   false|    city8|    district8|\n",
      "|      68|637|    name6|    NULL|    NULL|    NULL|    NULL|    NULL|    NULL|    NULL|    NULL|    NULL|    city8|    district8|\n",
      "|      82|638|   name10|   false|    true|    true|    true|    true|    true|    true|    true|    true|   city22|    district2|\n",
      "|      71|639|    name1|    true|   false|    true|    true|    true|    true|    true|    true|    true|   city11|    district1|\n",
      "|      28|640|    name2|    true|    true|    true|    true|    true|    true|    true|    true|   false|   city28|    district8|\n",
      "|     100|641|    name8|    true|   false|    true|    true|    true|    true|   false|    true|   false|   city10|    district0|\n",
      "|      89|642|    name9|    true|    true|   false|    true|    true|    true|    true|    true|    true|   city29|    district9|\n",
      "|      77|643|    name2|    true|    true|    true|    true|    true|   false|    true|    true|    true|   city17|    district7|\n",
      "|       1|644|    name2|    true|   false|    true|    true|    true|    true|    true|    true|    true|    city1|    district1|\n",
      "+--------+---+---------+--------+--------+--------+--------+--------+--------+--------+--------+--------+---------+-------------+\n",
      "only showing top 20 rows\n",
      "\n"
     ]
    }
   ],
   "execution_count": 15
  },
  {
   "metadata": {
    "ExecuteTime": {
     "end_time": "2025-04-29T19:02:54.228507Z",
     "start_time": "2025-04-29T19:02:52.368729Z"
    }
   },
   "cell_type": "code",
   "source": "silver_df.write.format(\"delta\").mode(\"overwrite\").save(f\"{SILVER_ROOT}/users\")",
   "id": "df752d21f4e421aa",
   "outputs": [
    {
     "name": "stderr",
     "output_type": "stream",
     "text": [
      "25/04/29 21:02:53 WARN MemoryManager: Total allocation exceeds 95.00% (2,040,109,440 bytes) of heap memory\n",
      "Scaling row group sizes to 95.00% for 16 writers\n"
     ]
    }
   ],
   "execution_count": 16
  },
  {
   "metadata": {
    "ExecuteTime": {
     "end_time": "2025-04-29T19:02:55.813281Z",
     "start_time": "2025-04-29T19:02:54.287431Z"
    }
   },
   "cell_type": "code",
   "source": [
    "silver_user = spark.read.format(\"delta\").load(f\"{SILVER_ROOT}/users\")\n",
    "report = silver_user.groupBy(\"city_name\").agg(\n",
    "    *[\n",
    "        (F.sum(F.col(f\"attend_{section_id}\").cast(\"int\")) / F.count(\"id\")).alias(f\"attend_level_{section_id}\")\n",
    "        for section_id in section_ids\n",
    "    ]\n",
    ")\n",
    "report.show()"
   ],
   "id": "5355fe5b17148829",
   "outputs": [
    {
     "name": "stdout",
     "output_type": "stream",
     "text": [
      "+---------+------------------+------------------+------------------+------------------+------------------+------------------+-------------------+------------------+------------------+\n",
      "|city_name|    attend_level_1|    attend_level_2|    attend_level_3|    attend_level_4|    attend_level_5|    attend_level_6|     attend_level_7|    attend_level_8|    attend_level_9|\n",
      "+---------+------------------+------------------+------------------+------------------+------------------+------------------+-------------------+------------------+------------------+\n",
      "|    city7| 0.568922305764411|0.5664160401002506|0.5338345864661654| 0.543859649122807|0.5739348370927319|0.5463659147869674| 0.5639097744360902|0.5614035087719298|0.6090225563909775|\n",
      "|   city24|0.5858585858585859|0.5084175084175084|0.5925925925925926|0.6060606060606061|0.5521885521885522|0.5387205387205387| 0.5858585858585859|0.5555555555555556|0.5959595959595959|\n",
      "|   city15|0.5571428571428572|0.5892857142857143|               0.5|0.6107142857142858|0.5392857142857143|0.5142857142857142| 0.5821428571428572|              0.55|0.5357142857142857|\n",
      "|    city9|0.5177664974619289|0.5634517766497462|0.5939086294416244|0.5532994923857868| 0.550761421319797|0.5532994923857868|0.49746192893401014|0.5355329949238579|0.5329949238578681|\n",
      "|   city28|0.5825242718446602|0.5792880258899676|0.5954692556634305|0.5728155339805825|0.5598705501618123|  0.56957928802589| 0.5825242718446602|0.5631067961165048|0.5728155339805825|\n",
      "|    city2|0.5604113110539846|0.5449871465295629|0.5526992287917738|0.5732647814910026| 0.570694087403599|0.5475578406169666| 0.5552699228791774|0.5629820051413882|0.5475578406169666|\n",
      "|   city22| 0.576271186440678|0.5322033898305085|0.5254237288135594|0.5389830508474577|0.5661016949152542|0.5796610169491525| 0.5389830508474577|0.5661016949152542|0.5084745762711864|\n",
      "|   city13|0.5295774647887324|0.6140845070422535|0.5774647887323944|0.5492957746478874|0.5380281690140845|0.5774647887323944| 0.5521126760563381|0.5577464788732395|0.5492957746478874|\n",
      "|    city0|0.4878048780487805|0.5505226480836237|0.5017421602787456|0.5296167247386759| 0.554006968641115|0.5435540069686411|0.47735191637630664|0.5435540069686411|0.4843205574912892|\n",
      "|   city17|0.5587188612099644|0.5693950177935944|0.5409252669039146|0.5516014234875445|0.5587188612099644|0.5444839857651246| 0.6014234875444839|0.5551601423487544|0.5516014234875445|\n",
      "|   city25|0.5850340136054422|0.5918367346938775| 0.564625850340136|0.5340136054421769|0.5748299319727891|0.5612244897959183| 0.5952380952380952|0.5612244897959183|0.5476190476190477|\n",
      "|    city6|0.5303370786516854|0.5483146067415731|0.5865168539325842|0.5528089887640449|0.5797752808988764|0.5415730337078651| 0.5325842696629214|0.5393258426966292|0.5685393258426966|\n",
      "|   city20|0.5292207792207793| 0.551948051948052|0.6006493506493507|0.5941558441558441|0.5422077922077922|0.5974025974025974| 0.6103896103896104|0.5551948051948052|0.5844155844155844|\n",
      "|   city29| 0.559322033898305|               0.6| 0.559322033898305|0.5661016949152542|0.5389830508474577|0.5796610169491525|  0.535593220338983|0.5661016949152542|0.5796610169491525|\n",
      "|   city23|0.5836065573770491|0.5245901639344263|0.5508196721311476|0.5475409836065573| 0.580327868852459|0.5934426229508196| 0.5868852459016394|0.5245901639344263|0.5114754098360655|\n",
      "|   city14|0.5602605863192183|0.5602605863192183|0.5472312703583062|0.5439739413680782|0.5407166123778502|0.5374592833876222| 0.5276872964169381|0.5276872964169381| 0.498371335504886|\n",
      "|   city12|              0.59|              0.54|0.5733333333333334|              0.59|0.5566666666666666|0.5833333333333334| 0.5366666666666666|0.5466666666666666|0.5533333333333333|\n",
      "|   city11|0.5528169014084507|0.5140845070422535|0.5211267605633803|0.5246478873239436|0.5211267605633803|0.5809859154929577|  0.545774647887324|0.5422535211267606|               0.5|\n",
      "|   city26| 0.551948051948052| 0.551948051948052|0.5584415584415584|0.5487012987012987| 0.577922077922078|0.5324675324675324| 0.5292207792207793|0.5974025974025974|0.5616883116883117|\n",
      "|   city19|0.5342019543973942|0.5635179153094463|0.5244299674267101|0.5537459283387622|0.5537459283387622|0.5700325732899023| 0.5602605863192183|0.5635179153094463|0.5244299674267101|\n",
      "+---------+------------------+------------------+------------------+------------------+------------------+------------------+-------------------+------------------+------------------+\n",
      "only showing top 20 rows\n",
      "\n"
     ]
    }
   ],
   "execution_count": 17
  },
  {
   "metadata": {
    "ExecuteTime": {
     "end_time": "2025-04-29T19:02:56.710408Z",
     "start_time": "2025-04-29T19:02:55.905440Z"
    }
   },
   "cell_type": "code",
   "source": [
    "report.write.format(\"delta\").mode(\"overwrite\").save(f\"{GOLD_ROOT}/attends_per_city\")\n",
    "column = ','.join([f\"'section_{section_id}', attend_level_{section_id}\" for section_id in section_ids])\n",
    "stack_expression =  f\"stack(9, {column}) as (section, attend_level)\"\n",
    "print(stack_expression)\n",
    "unpopular_per_city = report.selectExpr(\n",
    "    \"city_name\",\n",
    "    stack_expression\n",
    ")"
   ],
   "id": "e6b57a43ec39f984",
   "outputs": [
    {
     "name": "stdout",
     "output_type": "stream",
     "text": [
      "stack(9, 'section_1', attend_level_1,'section_2', attend_level_2,'section_3', attend_level_3,'section_4', attend_level_4,'section_5', attend_level_5,'section_6', attend_level_6,'section_7', attend_level_7,'section_8', attend_level_8,'section_9', attend_level_9) as (section, attend_level)\n"
     ]
    }
   ],
   "execution_count": 18
  },
  {
   "metadata": {
    "ExecuteTime": {
     "end_time": "2025-04-29T19:02:57.126781Z",
     "start_time": "2025-04-29T19:02:56.785885Z"
    }
   },
   "cell_type": "code",
   "source": "unpopular_per_city.show()",
   "id": "dcac9c08b96d78e1",
   "outputs": [
    {
     "name": "stdout",
     "output_type": "stream",
     "text": [
      "+---------+---------+------------------+\n",
      "|city_name|  section|      attend_level|\n",
      "+---------+---------+------------------+\n",
      "|    city7|section_1| 0.568922305764411|\n",
      "|    city7|section_2|0.5664160401002506|\n",
      "|    city7|section_3|0.5338345864661654|\n",
      "|    city7|section_4| 0.543859649122807|\n",
      "|    city7|section_5|0.5739348370927319|\n",
      "|    city7|section_6|0.5463659147869674|\n",
      "|    city7|section_7|0.5639097744360902|\n",
      "|    city7|section_8|0.5614035087719298|\n",
      "|    city7|section_9|0.6090225563909775|\n",
      "|   city24|section_1|0.5858585858585859|\n",
      "|   city24|section_2|0.5084175084175084|\n",
      "|   city24|section_3|0.5925925925925926|\n",
      "|   city24|section_4|0.6060606060606061|\n",
      "|   city24|section_5|0.5521885521885522|\n",
      "|   city24|section_6|0.5387205387205387|\n",
      "|   city24|section_7|0.5858585858585859|\n",
      "|   city24|section_8|0.5555555555555556|\n",
      "|   city24|section_9|0.5959595959595959|\n",
      "|   city15|section_1|0.5571428571428572|\n",
      "|   city15|section_2|0.5892857142857143|\n",
      "+---------+---------+------------------+\n",
      "only showing top 20 rows\n",
      "\n"
     ]
    }
   ],
   "execution_count": 19
  },
  {
   "metadata": {
    "ExecuteTime": {
     "end_time": "2025-04-29T19:02:57.765846Z",
     "start_time": "2025-04-29T19:02:57.209471Z"
    }
   },
   "cell_type": "code",
   "source": [
    "window_spec = Window.partitionBy('city_name').orderBy('attend_level')\n",
    "\n",
    "unpopular_per_city_ranked = unpopular_per_city.withColumn('rank', F.row_number().over(window_spec))\n",
    "unpopular_per_city_filtered = unpopular_per_city_ranked.filter(F.col('rank') == 1)\n",
    "unpopular_per_city_filtered_result  = unpopular_per_city_filtered.drop('rank')\n",
    "unpopular_per_city_filtered_result.show()"
   ],
   "id": "25b24fa4da4cc055",
   "outputs": [
    {
     "name": "stdout",
     "output_type": "stream",
     "text": [
      "+---------+---------+-------------------+\n",
      "|city_name|  section|       attend_level|\n",
      "+---------+---------+-------------------+\n",
      "|    city0|section_7|0.47735191637630664|\n",
      "|    city1|section_1|  0.511002444987775|\n",
      "|   city10|section_5| 0.5310173697270472|\n",
      "|   city11|section_9|                0.5|\n",
      "|   city12|section_7| 0.5366666666666666|\n",
      "|   city13|section_1| 0.5295774647887324|\n",
      "|   city14|section_9|  0.498371335504886|\n",
      "|   city15|section_3|                0.5|\n",
      "|   city16|section_2| 0.5457413249211357|\n",
      "|   city17|section_3| 0.5409252669039146|\n",
      "|   city18|section_5| 0.4856115107913669|\n",
      "|   city19|section_3| 0.5244299674267101|\n",
      "|    city2|section_2| 0.5449871465295629|\n",
      "|   city20|section_1| 0.5292207792207793|\n",
      "|   city21|section_9| 0.5057034220532319|\n",
      "|   city22|section_9| 0.5084745762711864|\n",
      "|   city23|section_9| 0.5114754098360655|\n",
      "|   city24|section_2| 0.5084175084175084|\n",
      "|   city25|section_4| 0.5340136054421769|\n",
      "|   city26|section_7| 0.5292207792207793|\n",
      "+---------+---------+-------------------+\n",
      "only showing top 20 rows\n",
      "\n"
     ]
    }
   ],
   "execution_count": 20
  },
  {
   "metadata": {
    "ExecuteTime": {
     "end_time": "2025-04-29T19:02:58.525388Z",
     "start_time": "2025-04-29T19:02:57.847243Z"
    }
   },
   "cell_type": "code",
   "source": "unpopular_per_city_filtered_result.write.format(\"delta\").mode(\"overwrite\").save(f\"{GOLD_ROOT}/unpopular_per_city\")",
   "id": "bb515b8af438c245",
   "outputs": [],
   "execution_count": 21
  }
 ],
 "metadata": {
  "kernelspec": {
   "display_name": "Python 3",
   "language": "python",
   "name": "python3"
  },
  "language_info": {
   "codemirror_mode": {
    "name": "ipython",
    "version": 2
   },
   "file_extension": ".py",
   "mimetype": "text/x-python",
   "name": "python",
   "nbconvert_exporter": "python",
   "pygments_lexer": "ipython2",
   "version": "2.7.6"
  }
 },
 "nbformat": 4,
 "nbformat_minor": 5
}
