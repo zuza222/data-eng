{
 "cells": [
  {
   "cell_type": "code",
   "id": "initial_id",
   "metadata": {
    "collapsed": true,
    "ExecuteTime": {
     "end_time": "2025-04-29T19:03:41.859203Z",
     "start_time": "2025-04-29T19:03:41.851812Z"
    }
   },
   "source": [
    "from common import base_path, BRONZE_ROOT, SILVER_ROOT, GOLD_ROOT\n",
    "import os\n",
    "from pyspark.conf import SparkConf\n",
    "from pyspark.context import SparkContext\n",
    "from pyspark.sql import SparkSession\n",
    "import random\n",
    "from pyspark.sql import functions as F\n",
    "from pyspark.sql.window import Window"
   ],
   "outputs": [],
   "execution_count": 13
  },
  {
   "metadata": {
    "ExecuteTime": {
     "end_time": "2025-04-29T19:03:41.919980Z",
     "start_time": "2025-04-29T19:03:41.915910Z"
    }
   },
   "cell_type": "code",
   "source": [
    "for layer in ['bronze', 'silver', 'gold']:\n",
    "    os.makedirs(f\"{base_path}/{layer}\", exist_ok=True)"
   ],
   "id": "37be19866d5e2370",
   "outputs": [],
   "execution_count": 14
  },
  {
   "metadata": {
    "ExecuteTime": {
     "end_time": "2025-04-29T19:03:42.047260Z",
     "start_time": "2025-04-29T19:03:42.016644Z"
    }
   },
   "cell_type": "code",
   "source": [
    "spark_conf = (\n",
    "    SparkConf()\n",
    "    .set(\"spark.driver.memory\", \"2g\")\n",
    "    .set(\"spark.jars.packages\", \"org.apache.hadoop:hadoop-client:3.3.4,io.delta:delta-spark_2.12:3.2.0\")\n",
    "    .set(\"spark.sql.extensions\", \"io.delta.sql.DeltaSparkSessionExtension\")\n",
    "    .set(\"spark.sql.catalog.spark_catalog\", \"org.apache.spark.sql.delta.catalog.DeltaCatalog\")\n",
    ")\n",
    "\n",
    "sc = SparkContext.getOrCreate(spark_conf)\n",
    "spark = SparkSession(sc)\n",
    "\n",
    "print(f\"Spark version = {spark.version}\")"
   ],
   "id": "144f90983b82c82f",
   "outputs": [
    {
     "name": "stdout",
     "output_type": "stream",
     "text": [
      "Spark version = 3.5.0\n"
     ]
    }
   ],
   "execution_count": 15
  },
  {
   "metadata": {},
   "cell_type": "markdown",
   "source": [
    "## 1️ Bronze Layer - Raw Data\n",
    "\n",
    "We generate and store the following datasets:\n",
    "\n",
    "- **Users**: user_id, user_name, credit_score\n",
    "- **Cards**: card_id, user_id, bank_name (card issuer)\n",
    "- **Transaction Logs**: transaction_id, card_from, card_to, amount, timestamp\n",
    "\n",
    "All data is stored as Delta Lake format tables under the `/bronze` folder.\n",
    "\n",
    "---"
   ],
   "id": "dfa10ec345c739b6"
  },
  {
   "metadata": {
    "ExecuteTime": {
     "end_time": "2025-04-29T19:03:44.906251Z",
     "start_time": "2025-04-29T19:03:42.098586Z"
    }
   },
   "cell_type": "code",
   "source": [
    "banks = ['BankA', 'BankB', 'BankC', 'BankD']\n",
    "\n",
    "users = [{\"user_id\": i, \"user_name\": f\"user_{i}\", \"credit_score\": random.randint(300, 850)} for i in range(100)]\n",
    "\n",
    "cards = [{\"card_id\": i, \"user_id\": random.choice(users)['user_id'], \"bank_name\": random.choice(banks)} for i in range(200)]\n",
    "\n",
    "transactions = [{\n",
    "    \"transaction_id\": i,\n",
    "    \"card_from\": random.choice(cards)['card_id'],\n",
    "    \"card_to\": random.choice(cards)['card_id'],\n",
    "    \"amount\": round(random.uniform(10, 1000), 2),\n",
    "    \"timestamp\": f\"2024-0{random.randint(1,9)}-{random.randint(10,28)}\"\n",
    "} for i in range(5000)]\n",
    "\n",
    "spark.createDataFrame(users).write.format(\"delta\").mode(\"overwrite\").save(f\"{BRONZE_ROOT}/user\")\n",
    "spark.createDataFrame(cards).write.format(\"delta\").mode(\"overwrite\").save(f\"{BRONZE_ROOT}/card\")\n",
    "spark.createDataFrame(transactions).write.format(\"delta\").mode(\"overwrite\").save(f\"{BRONZE_ROOT}/transaction_log\")\n"
   ],
   "id": "af5fc04dc03354a1",
   "outputs": [],
   "execution_count": 16
  },
  {
   "metadata": {},
   "cell_type": "markdown",
   "source": [
    "## 2️ Silver Layer - Enriched Wide Table\n",
    "\n",
    "We enrich transaction logs by:\n",
    "\n",
    "- Joining transaction data with sender and receiver card information.\n",
    "- Extracting sender and receiver bank names.\n",
    "- Creating a **wide table** using `pivot` to show total transaction amounts from sender bank to receiver bank.\n",
    "\n",
    "The pivot operation generates a table with sender banks as rows and receiver banks as columns.\n",
    "\n",
    "All data is stored as Delta Lake tables under the `/silver` folder.\n",
    "\n",
    "---"
   ],
   "id": "f83d343421213ea4"
  },
  {
   "metadata": {
    "ExecuteTime": {
     "end_time": "2025-04-29T19:03:48.318446Z",
     "start_time": "2025-04-29T19:03:44.955903Z"
    }
   },
   "cell_type": "code",
   "source": [
    "user_df = spark.read.format(\"delta\").load(f\"{BRONZE_ROOT}/user\")\n",
    "card_df = spark.read.format(\"delta\").load(f\"{BRONZE_ROOT}/card\")\n",
    "txn_df = spark.read.format(\"delta\").load(f\"{BRONZE_ROOT}/transaction_log\")\n",
    "\n",
    "txn_enriched = (\n",
    "    txn_df\n",
    "    .join(card_df.withColumnRenamed(\"card_id\", \"card_from\"), on=\"card_from\")\n",
    "    .withColumnRenamed(\"bank_name\", \"sender_bank\")\n",
    "    .join(card_df.withColumnRenamed(\"card_id\", \"card_to\"), on=\"card_to\")\n",
    "    .withColumnRenamed(\"bank_name\", \"receiver_bank\")\n",
    "    .select(\"transaction_id\", \"amount\", \"timestamp\", \"sender_bank\", \"receiver_bank\")\n",
    ")\n",
    "\n",
    "txn_enriched.write.format(\"delta\").mode(\"overwrite\").save(f\"{SILVER_ROOT}/transactions\")\n",
    "\n",
    "pivoted = (\n",
    "    txn_enriched\n",
    "    .groupBy(\"sender_bank\")\n",
    "    .pivot(\"receiver_bank\", banks)\n",
    "    .agg(F.sum(\"amount\"))\n",
    "    .na.fill(0)\n",
    ")\n",
    "\n",
    "pivoted.write.format(\"delta\").mode(\"overwrite\").save(f\"{SILVER_ROOT}/transactions_pivoted\")\n"
   ],
   "id": "d6f89f3f41e5a05a",
   "outputs": [],
   "execution_count": 17
  },
  {
   "metadata": {},
   "cell_type": "markdown",
   "source": [
    "## 3️ Gold Layer - Reporting\n",
    "\n",
    "We build a final report:\n",
    "\n",
    "- Stack the pivoted silver data (using `stack()` function).\n",
    "- Apply a `window` function (`row_number() over partitioned by sender_bank`) to rank receiver banks by total transaction amount.\n",
    "- Select the **most popular counter-agent bank** for each sender bank.\n",
    "\n",
    "The final report is stored as a Delta table under the `/gold` folder.\n",
    "\n",
    "---"
   ],
   "id": "15915cd85994aa87"
  },
  {
   "metadata": {
    "ExecuteTime": {
     "end_time": "2025-04-29T19:03:49.980843Z",
     "start_time": "2025-04-29T19:03:48.377123Z"
    }
   },
   "cell_type": "code",
   "source": [
    "pivoted = spark.read.format(\"delta\").load(f\"{SILVER_ROOT}/transactions_pivoted\")\n",
    "\n",
    "stack_expr = \"stack(4, \" + \", \".join([f\"'{bank}', `{bank}`\" for bank in banks]) + \") as (receiver_bank, total_amount)\"\n",
    "stacked = pivoted.selectExpr(\"sender_bank\", stack_expr)\n",
    "\n",
    "window_spec = Window.partitionBy(\"sender_bank\").orderBy(F.desc(\"total_amount\"))\n",
    "\n",
    "ranked = stacked.withColumn(\"rank\", F.row_number().over(window_spec))\n",
    "top_counteragent = ranked.filter(\"rank == 1\").drop(\"rank\")\n",
    "\n",
    "top_counteragent.show()\n",
    "\n",
    "top_counteragent.write.format(\"delta\").mode(\"overwrite\").save(f\"{GOLD_ROOT}/top_counteragent\")\n"
   ],
   "id": "feeebfe3a5a211e",
   "outputs": [
    {
     "name": "stdout",
     "output_type": "stream",
     "text": [
      "+-----------+-------------+------------------+\n",
      "|sender_bank|receiver_bank|      total_amount|\n",
      "+-----------+-------------+------------------+\n",
      "|      BankA|        BankD|         153780.31|\n",
      "|      BankB|        BankB|         206639.18|\n",
      "|      BankC|        BankD|169221.28999999998|\n",
      "|      BankD|        BankD|204079.60999999996|\n",
      "+-----------+-------------+------------------+\n",
      "\n"
     ]
    }
   ],
   "execution_count": 18
  },
  {
   "metadata": {
    "ExecuteTime": {
     "end_time": "2025-04-29T19:03:50.035338Z",
     "start_time": "2025-04-29T19:03:50.033035Z"
    }
   },
   "cell_type": "code",
   "source": "",
   "id": "c04fec89bb635a94",
   "outputs": [],
   "execution_count": null
  }
 ],
 "metadata": {
  "kernelspec": {
   "display_name": "Python 3",
   "language": "python",
   "name": "python3"
  },
  "language_info": {
   "codemirror_mode": {
    "name": "ipython",
    "version": 2
   },
   "file_extension": ".py",
   "mimetype": "text/x-python",
   "name": "python",
   "nbconvert_exporter": "python",
   "pygments_lexer": "ipython2",
   "version": "2.7.6"
  }
 },
 "nbformat": 4,
 "nbformat_minor": 5
}
